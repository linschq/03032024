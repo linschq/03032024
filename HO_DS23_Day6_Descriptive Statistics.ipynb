{
  "cells": [
    {
      "cell_type": "markdown",
      "id": "f68be348-2013-4f6e-af54-aa13b3d19e46",
      "metadata": {
        "id": "f68be348-2013-4f6e-af54-aa13b3d19e46"
      },
      "source": [
        "## Dibimbing Day 5 - Descriptive Statistics"
      ]
    },
    {
      "cell_type": "markdown",
      "id": "5b756f76-bc9c-411d-92ef-82941bb4ba90",
      "metadata": {
        "id": "5b756f76-bc9c-411d-92ef-82941bb4ba90"
      },
      "source": [
        "### 1. Central Tendency"
      ]
    },
    {
      "cell_type": "code",
      "source": [
        "#cara membuat suatu list / array di python"
      ],
      "metadata": {
        "id": "NuIGBX93RHPP"
      },
      "id": "NuIGBX93RHPP",
      "execution_count": null,
      "outputs": []
    },
    {
      "cell_type": "code",
      "execution_count": 1,
      "id": "96842890-f466-4924-98d8-81ac72c11e0b",
      "metadata": {
        "id": "96842890-f466-4924-98d8-81ac72c11e0b"
      },
      "outputs": [],
      "source": [
        "score = [99,90,87,88,100,87,93,87,94,15]"
      ]
    },
    {
      "cell_type": "markdown",
      "id": "cb001c81-492a-45a5-95c9-ebbc48f3136a",
      "metadata": {
        "id": "cb001c81-492a-45a5-95c9-ebbc48f3136a"
      },
      "source": [
        "#### Mean"
      ]
    },
    {
      "cell_type": "code",
      "source": [
        "#Package numpy untuk statistik deskriptif"
      ],
      "metadata": {
        "id": "jgM5jA6WRZhs"
      },
      "id": "jgM5jA6WRZhs",
      "execution_count": null,
      "outputs": []
    },
    {
      "cell_type": "code",
      "execution_count": 7,
      "id": "e2f3817a-915a-42a0-ae66-d76930b8e0db",
      "metadata": {
        "colab": {
          "base_uri": "https://localhost:8080/"
        },
        "id": "e2f3817a-915a-42a0-ae66-d76930b8e0db",
        "outputId": "872f76f7-b623-4fc0-9455-272ca4ac4a25"
      },
      "outputs": [
        {
          "output_type": "stream",
          "name": "stdout",
          "text": [
            "84.0\n"
          ]
        }
      ],
      "source": [
        "import numpy\n",
        "x = numpy.mean(score) #numpy.mean()\n",
        "print(x)"
      ]
    },
    {
      "cell_type": "markdown",
      "id": "414b95f9-3ea1-43e1-93e8-bf4d3a0ab06e",
      "metadata": {
        "id": "414b95f9-3ea1-43e1-93e8-bf4d3a0ab06e"
      },
      "source": [
        "#### Median"
      ]
    },
    {
      "cell_type": "code",
      "execution_count": 8,
      "id": "a136da9d-4e6d-4490-a42a-15755bfed119",
      "metadata": {
        "id": "a136da9d-4e6d-4490-a42a-15755bfed119",
        "outputId": "6efd5891-4b65-4f62-9c12-841a68709834",
        "colab": {
          "base_uri": "https://localhost:8080/"
        }
      },
      "outputs": [
        {
          "output_type": "stream",
          "name": "stdout",
          "text": [
            "89.0\n"
          ]
        }
      ],
      "source": [
        "import numpy\n",
        "x = numpy.median(score) #numpy.median()\n",
        "print(x)"
      ]
    },
    {
      "cell_type": "code",
      "source": [
        "#ada perbedaan pada mean dan median, kemungkinan data tidak terdistribusi normal dong"
      ],
      "metadata": {
        "id": "_NaQq9OhR5xf"
      },
      "id": "_NaQq9OhR5xf",
      "execution_count": null,
      "outputs": []
    },
    {
      "cell_type": "markdown",
      "id": "2499f2b1-f9a6-4740-a04b-afbdc9d5dbf2",
      "metadata": {
        "id": "2499f2b1-f9a6-4740-a04b-afbdc9d5dbf2"
      },
      "source": [
        "#### Mode"
      ]
    },
    {
      "cell_type": "code",
      "source": [
        "# Beberapa package perhitungan modus\n",
        "# Package Scipy dengan subpackage Stats\n",
        "# (kekurangan python package suka terupdate sendiri),Tipe data kategorikal cara mencari mode dengan import statistics"
      ],
      "metadata": {
        "id": "tu5JCRG0RiF7"
      },
      "id": "tu5JCRG0RiF7",
      "execution_count": null,
      "outputs": []
    },
    {
      "cell_type": "code",
      "execution_count": 9,
      "id": "8a42911d-9519-44ae-80b4-9d7ac4fc2450",
      "metadata": {
        "id": "8a42911d-9519-44ae-80b4-9d7ac4fc2450",
        "outputId": "02787265-e757-420f-9a1d-b27a25b0c359",
        "colab": {
          "base_uri": "https://localhost:8080/"
        }
      },
      "outputs": [
        {
          "output_type": "stream",
          "name": "stdout",
          "text": [
            "87\n"
          ]
        }
      ],
      "source": [
        "from scipy import stats\n",
        "x = stats.mode(score) #stats.mode()\n",
        "print(x.mode)"
      ]
    },
    {
      "cell_type": "code",
      "execution_count": 10,
      "id": "1ce0a5bd-1c1d-4616-a003-2b859b72fa82",
      "metadata": {
        "id": "1ce0a5bd-1c1d-4616-a003-2b859b72fa82",
        "outputId": "a7d0971a-fc72-43a1-a5a5-290c1805e55c",
        "colab": {
          "base_uri": "https://localhost:8080/"
        }
      },
      "outputs": [
        {
          "output_type": "stream",
          "name": "stdout",
          "text": [
            "['L']\n"
          ]
        }
      ],
      "source": [
        "import statistics\n",
        "## Categorical Data\n",
        "\n",
        "size = [\"S\",\"M\",\"L\",\"L\",\"XL\",\"XXL\",\"XXXL\",\"XL\",\"XS\",\"S\",\"S\",\"L\",\"L\",\"M\",\"M\",\"XL\",\"XXXL\"]\n",
        "x = statistics.multimode(size) #statistics.multimode(size)\n",
        "print(x)"
      ]
    },
    {
      "cell_type": "code",
      "execution_count": 7,
      "id": "c6d74198-2824-4f23-bfef-325b83febdec",
      "metadata": {
        "id": "c6d74198-2824-4f23-bfef-325b83febdec",
        "outputId": "51ada12e-e3ac-4daf-832a-a8e9df6edc54",
        "colab": {
          "base_uri": "https://localhost:8080/"
        }
      },
      "outputs": [
        {
          "output_type": "execute_result",
          "data": {
            "text/plain": [
              "['M', 'L']"
            ]
          },
          "metadata": {},
          "execution_count": 7
        }
      ],
      "source": [
        "## Multiple modes\n",
        "import statistics\n",
        "\n",
        "size = [\"S\",\"M\",\"L\",\"L\",\"XL\",\"XXL\",\"XXXL\",\"XL\",\"XS\",\"S\",\"S\",\"L\",\"L\",\"M\",\"M\",\"XL\",\"XXXL\", \"M\"]\n",
        "statistics.multimode(size)"
      ]
    },
    {
      "cell_type": "markdown",
      "id": "402c08a1-93e5-4974-8ed8-2bf45d0b9266",
      "metadata": {
        "id": "402c08a1-93e5-4974-8ed8-2bf45d0b9266"
      },
      "source": [
        "### 2. Dispersion"
      ]
    },
    {
      "cell_type": "code",
      "execution_count": 1,
      "id": "2bfc52e0-091b-4537-974b-e0554265c13f",
      "metadata": {
        "id": "2bfc52e0-091b-4537-974b-e0554265c13f"
      },
      "outputs": [],
      "source": [
        "score = [99,90,87,88,100,87,93,87,94,15]"
      ]
    },
    {
      "cell_type": "markdown",
      "id": "407dba24-84d7-4526-aa33-e2ae28f1a84e",
      "metadata": {
        "id": "407dba24-84d7-4526-aa33-e2ae28f1a84e"
      },
      "source": [
        "#### Variance"
      ]
    },
    {
      "cell_type": "code",
      "execution_count": 3,
      "id": "07146749-d448-46c5-b7ae-1aca96d2562a",
      "metadata": {
        "id": "07146749-d448-46c5-b7ae-1aca96d2562a",
        "outputId": "dad115ee-bd4a-4997-d960-a269d70e9334",
        "colab": {
          "base_uri": "https://localhost:8080/"
        }
      },
      "outputs": [
        {
          "output_type": "stream",
          "name": "stdout",
          "text": [
            "550.2\n"
          ]
        }
      ],
      "source": [
        "import numpy\n",
        "x = numpy.var(score) #numpy.var()\n",
        "print(x)\n"
      ]
    },
    {
      "cell_type": "markdown",
      "id": "b33b92b7-faea-4b98-814c-331cf37dffa7",
      "metadata": {
        "id": "b33b92b7-faea-4b98-814c-331cf37dffa7"
      },
      "source": [
        "#### Standard Deviation"
      ]
    },
    {
      "cell_type": "code",
      "execution_count": 2,
      "id": "a13fad68-5dbe-407e-ba68-45c0ab26a1da",
      "metadata": {
        "id": "a13fad68-5dbe-407e-ba68-45c0ab26a1da",
        "outputId": "4cee8ed2-3854-4d4b-ec3f-a0db18ef4cff",
        "colab": {
          "base_uri": "https://localhost:8080/"
        }
      },
      "outputs": [
        {
          "output_type": "stream",
          "name": "stdout",
          "text": [
            "23.456342425877057\n"
          ]
        }
      ],
      "source": [
        "import numpy\n",
        "x = numpy.std(score) #numpy.std()\n",
        "print(x)\n",
        "\n",
        "#artinya, rerata data 84 std +/ 23.46"
      ]
    },
    {
      "cell_type": "markdown",
      "id": "85d424da-8fa2-42de-af46-cc939f3d036e",
      "metadata": {
        "id": "85d424da-8fa2-42de-af46-cc939f3d036e"
      },
      "source": [
        "#### Covariance"
      ]
    },
    {
      "cell_type": "code",
      "execution_count": 4,
      "id": "36d7ff7b-943f-4f8b-8f0c-5c4144018439",
      "metadata": {
        "id": "36d7ff7b-943f-4f8b-8f0c-5c4144018439"
      },
      "outputs": [],
      "source": [
        "math_score = [99,90,87,88,100,87,93,87,94,15]\n",
        "english_score = [89,85,70,80,99,85,95,78,82,50]"
      ]
    },
    {
      "cell_type": "code",
      "execution_count": 5,
      "id": "243a19fa-3b46-40c0-bc3a-b918284b15fb",
      "metadata": {
        "id": "243a19fa-3b46-40c0-bc3a-b918284b15fb",
        "outputId": "f80d8977-9085-4aa7-d8bf-00a5e20a2ab1",
        "colab": {
          "base_uri": "https://localhost:8080/"
        }
      },
      "outputs": [
        {
          "output_type": "stream",
          "name": "stdout",
          "text": [
            "297.0\n"
          ]
        }
      ],
      "source": [
        "import numpy\n",
        "x = numpy.cov(math_score, english_score)[0][1] #numpy.cov(variabel1,variabel2) [0][1] penulisan variabel boleh terbalik\n",
        "print(x)\n",
        "\n",
        "#hasilnya memiliki kovarian (hubungan) positif antara variabel 1 dan variabel 2"
      ]
    },
    {
      "cell_type": "markdown",
      "id": "018e9236-eed3-4d3e-87cf-7f2ef2dcc0b6",
      "metadata": {
        "id": "018e9236-eed3-4d3e-87cf-7f2ef2dcc0b6"
      },
      "source": [
        "#### Correlation"
      ]
    },
    {
      "cell_type": "code",
      "source": [
        "# numpy adalah library package stats data numerik paling basics\n",
        "# pandas mengolah tipe data yang bentuknya dataframe (table)\n",
        "# visualisasi data matplotlib dan seaborn tambahan: plotly\n",
        "  # matplotlib: lebih fleksibel, lebih disarankan juga. cuma learning curve nya besar\n",
        "  # seaborn:"
      ],
      "metadata": {
        "id": "pmPemH8pkS6F"
      },
      "id": "pmPemH8pkS6F",
      "execution_count": null,
      "outputs": []
    },
    {
      "cell_type": "code",
      "execution_count": 6,
      "id": "b311002d-4a57-4005-97f1-543303a7320f",
      "metadata": {
        "id": "b311002d-4a57-4005-97f1-543303a7320f",
        "outputId": "bb803eca-8686-4cdf-b765-6e5871a534fa",
        "colab": {
          "base_uri": "https://localhost:8080/"
        }
      },
      "outputs": [
        {
          "output_type": "stream",
          "name": "stdout",
          "text": [
            "0.8719308009547387\n"
          ]
        }
      ],
      "source": [
        "import numpy #numpy = numerical python\n",
        "x = numpy.corrcoef(math_score, english_score)[0][1] #numpy.corrcoeff(variabel1,variabel2) [0][1]\n",
        "print(x)\n",
        "\n",
        "#hasilnya memiliki korelasi yang cukup kuat karena angka 0,872 dekat dengan angka 1"
      ]
    },
    {
      "cell_type": "code",
      "source": [
        "numpy.corrcoef(math_score, english_score)"
      ],
      "metadata": {
        "colab": {
          "base_uri": "https://localhost:8080/"
        },
        "id": "oq5Cv2TJihpU",
        "outputId": "48d22c7b-0454-4ffb-87d5-05a33bbeab6f"
      },
      "id": "oq5Cv2TJihpU",
      "execution_count": 11,
      "outputs": [
        {
          "output_type": "execute_result",
          "data": {
            "text/plain": [
              "array([[1.       , 0.8719308],\n",
              "       [0.8719308, 1.       ]])"
            ]
          },
          "metadata": {},
          "execution_count": 11
        }
      ]
    },
    {
      "cell_type": "code",
      "source": [
        "array_contoh = [[1,2],[3,4]] #indeks di dalam indeks / matriks\n",
        "array_contoh #adalah struktur data list"
      ],
      "metadata": {
        "colab": {
          "base_uri": "https://localhost:8080/"
        },
        "id": "j7TwWxftitbS",
        "outputId": "3ba279fd-c080-41fd-e55d-64b0ccd17d53"
      },
      "id": "j7TwWxftitbS",
      "execution_count": 14,
      "outputs": [
        {
          "output_type": "execute_result",
          "data": {
            "text/plain": [
              "[[1, 2], [3, 4]]"
            ]
          },
          "metadata": {},
          "execution_count": 14
        }
      ]
    },
    {
      "cell_type": "code",
      "source": [
        "array_contoh [0][1] #mengambil indeks kedua dari indeks pertama"
      ],
      "metadata": {
        "colab": {
          "base_uri": "https://localhost:8080/"
        },
        "id": "m56xNU7oi-4C",
        "outputId": "12f6ed10-925c-472b-bf34-b40a57e0c6ab"
      },
      "id": "m56xNU7oi-4C",
      "execution_count": 15,
      "outputs": [
        {
          "output_type": "execute_result",
          "data": {
            "text/plain": [
              "2"
            ]
          },
          "metadata": {},
          "execution_count": 15
        }
      ]
    },
    {
      "cell_type": "code",
      "source": [
        "array_contoh [1][1] #mengambol indeks kedua dari indeks kedua"
      ],
      "metadata": {
        "colab": {
          "base_uri": "https://localhost:8080/"
        },
        "id": "jXFmljogjZTH",
        "outputId": "e62ab9cb-a7de-410f-dff9-b23f706b0428"
      },
      "id": "jXFmljogjZTH",
      "execution_count": 16,
      "outputs": [
        {
          "output_type": "execute_result",
          "data": {
            "text/plain": [
              "4"
            ]
          },
          "metadata": {},
          "execution_count": 16
        }
      ]
    },
    {
      "cell_type": "markdown",
      "id": "679ecc69-a96e-419e-b670-9c9f0f124ef5",
      "metadata": {
        "id": "679ecc69-a96e-419e-b670-9c9f0f124ef5"
      },
      "source": [
        "### 3. Data Distribution Visualization"
      ]
    },
    {
      "cell_type": "code",
      "execution_count": 3,
      "id": "449dc897-b4dc-475b-b94a-5ee329b61ff1",
      "metadata": {
        "colab": {
          "base_uri": "https://localhost:8080/"
        },
        "id": "449dc897-b4dc-475b-b94a-5ee329b61ff1",
        "outputId": "32487c55-d704-4775-90a6-0bbbf069f6da"
      },
      "outputs": [
        {
          "output_type": "stream",
          "name": "stdout",
          "text": [
            "[55.85769682 67.15956696 60.88961747 50.36701373 66.06497243 27.70529764\n",
            " 42.22131651 48.66153423 49.4197258  47.50076715 42.38501016 62.99541842\n",
            " 51.15350571 27.72167832 59.24660697 72.95243751 57.66797322 48.09456855\n",
            " 56.72324356 60.04031781 30.79393042 54.96412791 46.34097596 52.00931312\n",
            " 68.03933127 65.38113945 45.30739253 56.51543895 55.73616178 58.56306274\n",
            " 49.78144729 41.39010288 62.61360906 44.1640777  48.85966146 28.6724736\n",
            " 46.52041584 49.15012543 54.57938527 55.1314428  59.78954344 70.19261324\n",
            " 55.77076384 32.56722408 66.26451617 34.21912316 45.44042862 36.74352886\n",
            " 63.19809273 46.69119628 57.39598069 50.50486069 56.2484052  51.76900552\n",
            " 57.62434053 47.48139726 44.16627703 53.51412631 46.48580919 31.92976394\n",
            " 46.89693149 52.63755465 35.07531794 62.87168166 57.38354331 36.79071069\n",
            " 45.00727375 41.65584241 58.2650643  57.36180643 52.50983225 56.11759803\n",
            " 58.79262877 49.79694718 36.46921899 50.27579804 54.14928658 57.73344592\n",
            " 51.92860846 38.91900099 51.87307827 48.04767814 47.58648063 43.2820441\n",
            " 45.93390765 53.10388472 43.71795484 36.36800089 49.38863396 33.59133942\n",
            " 40.22337207 48.75735059 31.69181649 36.63651663 63.29691216 53.40347245\n",
            " 75.24952407 58.92130814 51.57949633 44.45584539 39.08286947 51.99280909\n",
            " 41.72622022 61.0127385  35.2350714  52.20043629 67.87259917 40.00013089\n",
            " 47.90120753 56.79869988 52.98472278 42.62114465 44.44067644 64.70604407\n",
            " 44.96498262 53.78626471 57.33683607 52.60954764 57.519982   47.04738869\n",
            " 56.37419898 42.451249   54.77384263 40.03046809 55.97960357 39.47940313\n",
            " 49.89796639 40.49014145 46.57745351 43.52529583 54.1232154  41.76819795\n",
            " 52.77205125 55.59272072 50.86901238 50.79984437 38.027287   47.24079412\n",
            " 54.09146508 48.25495864 60.33984345 43.10572245 65.7470133  44.14222911\n",
            " 45.32748484 50.55791921 59.85590046 48.23502168 55.09954126 55.22953089\n",
            " 63.13681351 43.57311045 66.01539361 57.78561116 58.05000347 38.78401807\n",
            " 56.63034154 45.16419129 51.18085452 41.51798981 48.99970935 66.48013694\n",
            " 39.93414    47.70613465 47.54111302 49.21242475 40.29807364 53.22621038\n",
            " 55.69488038 68.18865982 67.57244192 49.00512409 42.50564632 77.58946359\n",
            " 34.35137053 34.31161156 55.90764335 44.42002631 59.84583634 34.3609348\n",
            " 63.84263912 43.98428933 63.71880615 25.57620153 47.44542488 47.73263101\n",
            " 59.3896329  42.18135248 28.86317111 55.99544073 59.82665902 60.823221\n",
            " 55.50022686 45.52660218 40.59107176 49.55755936 51.07439818 61.9296507\n",
            " 55.6045678  61.16234275]\n"
          ]
        }
      ],
      "source": [
        "# generate random data\n",
        "\n",
        "import numpy as np\n",
        "\n",
        "x = np.random.normal(50, 10, 200) #np.random.normal (mean,stdv,n data)\n",
        "print(x)"
      ]
    },
    {
      "cell_type": "markdown",
      "id": "866affa7-a591-4e56-adb9-74ccd8995351",
      "metadata": {
        "id": "866affa7-a591-4e56-adb9-74ccd8995351"
      },
      "source": [
        "#### Histogram"
      ]
    },
    {
      "cell_type": "code",
      "execution_count": 4,
      "id": "823e563c-f2c3-46e4-acbd-52d6c569de89",
      "metadata": {
        "id": "823e563c-f2c3-46e4-acbd-52d6c569de89",
        "outputId": "5cbaada9-0ebd-41d3-d10f-f5f301f63602",
        "colab": {
          "base_uri": "https://localhost:8080/",
          "height": 430
        }
      },
      "outputs": [
        {
          "output_type": "display_data",
          "data": {
            "text/plain": [
              "<Figure size 640x480 with 1 Axes>"
            ],
            "image/png": "[encoded data removed]"
          },
          "metadata": {}
        }
      ],
      "source": [
        "#membuat histogram\n",
        "\n",
        "import matplotlib.pyplot as plt #\n",
        "\n",
        "plt.hist(x) #plt.hist(nama_data) untuk membuat histogram\n",
        "plt.show() #semacam fungsi print untuk cetak histogramnya"
      ]
    },
    {
      "cell_type": "markdown",
      "id": "afe4a723-e014-4b49-a4b4-69871dec47e5",
      "metadata": {
        "id": "afe4a723-e014-4b49-a4b4-69871dec47e5"
      },
      "source": [
        "#### Box Plot"
      ]
    },
    {
      "cell_type": "code",
      "execution_count": 5,
      "id": "3ee233bf-8970-450a-b67d-9ede95ac2134",
      "metadata": {
        "id": "3ee233bf-8970-450a-b67d-9ede95ac2134",
        "outputId": "f470b15c-fdd3-4a5f-86c1-3336bea74704",
        "colab": {
          "base_uri": "https://localhost:8080/",
          "height": 434
        }
      },
      "outputs": [
        {
          "output_type": "display_data",
          "data": {
            "text/plain": [
              "<Figure size 640x480 with 1 Axes>"
            ],
            "image/png": "[encoded data removed]"
          },
          "metadata": {}
        }
      ],
      "source": [
        "# membuat boxplot\n",
        "\n",
        "import matplotlib.pyplot as plt #plt adalah singkatan dari matplotlib.pyplit\n",
        "\n",
        "# semua library dapat disingkat dengan import nama_library as singkatan_yg_diinginkan\n",
        "\n",
        "plt.boxplot(x) #plt.boxplot(nama_variabel_data)\n",
        "plt.show()"
      ]
    },
    {
      "cell_type": "code",
      "source": [
        "# dari histogram, outliers ga keliatan. jadi kalo mau lebih detail, pakai boxplot saja\n",
        "# Despite the outliers, this is  normally distributed\n",
        "# median di sekitar 51, kisaran data 23-80\n",
        "# nilai outliers diketahui kisaran 78-79. Tapi untuk diketahui pasti biasanya ada yang diapus\n",
        "# bentukan bakal beda karena masing-masing generate data sendiri"
      ],
      "metadata": {
        "id": "JmtPK3SglWtq"
      },
      "id": "JmtPK3SglWtq",
      "execution_count": null,
      "outputs": []
    },
    {
      "cell_type": "markdown",
      "id": "db825321-1924-44ee-bf6a-871f4c6ed313",
      "metadata": {
        "id": "db825321-1924-44ee-bf6a-871f4c6ed313"
      },
      "source": [
        "### 5. Z-Score"
      ]
    },
    {
      "cell_type": "code",
      "execution_count": 3,
      "id": "358bd265-e2b6-49b0-ab15-ab12b4ade446",
      "metadata": {
        "id": "358bd265-e2b6-49b0-ab15-ab12b4ade446",
        "outputId": "0a7f96ad-100a-443a-90ec-c935fe9d6b1f",
        "colab": {
          "base_uri": "https://localhost:8080/"
        }
      },
      "outputs": [
        {
          "output_type": "execute_result",
          "data": {
            "text/plain": [
              "array([73.26098342, 69.38199193, 81.31602322, 70.93363688, 69.79893016,\n",
              "       78.90245308, 75.26654262, 77.10670629, 76.48580506, 71.52937846,\n",
              "       64.81597701, 72.12748479, 76.55319549, 74.42521686, 76.26351441,\n",
              "       73.32704321, 71.59966766, 72.28511067, 80.60354505, 74.79874205,\n",
              "       73.94809076, 81.18272448, 68.55640179, 76.34469082, 74.90429086,\n",
              "       73.49760986, 69.24762548, 77.75194393, 75.27656779, 79.603457  ,\n",
              "       75.09019807, 77.39476864, 78.31000456, 67.35410921, 75.2772335 ,\n",
              "       79.01453137, 75.88840545, 78.19110045, 75.0404479 , 76.21950685,\n",
              "       82.38658364, 79.8333039 , 69.063945  , 59.76792675, 70.87719259,\n",
              "       74.88145123, 72.21091343, 75.15530416, 71.35461833, 78.04516903,\n",
              "       78.16829237, 66.86769724, 78.87847805, 82.95455129, 76.59692188,\n",
              "       74.02904845, 79.55123648, 75.18302227, 77.57101238, 75.31248594,\n",
              "       76.76102106, 75.21323199, 67.9395124 , 71.58797657, 78.7367664 ,\n",
              "       70.24523904, 63.50231242, 72.48561272, 69.93873806, 81.11777189,\n",
              "       74.68253592, 76.19177409, 72.61043561, 75.19880826, 75.91380018,\n",
              "       79.74578699, 76.65591295, 71.19112699, 75.89985925, 70.06150772,\n",
              "       76.11631437, 77.2469898 , 63.47567471, 72.84807642, 76.10077079,\n",
              "       68.82775332, 72.95380486, 72.38905017, 80.17958099, 76.60791605,\n",
              "       81.15171743, 72.69960564, 81.69147326, 62.75556514, 73.08243429,\n",
              "       77.15011436, 65.78043292, 74.96099347, 68.73397078, 69.26029812,\n",
              "       70.53736873, 68.97835595, 80.1810587 , 72.50018875, 65.20610118,\n",
              "       81.42504442, 74.77239289, 76.44150037, 64.6074921 , 69.28093914,\n",
              "       67.53544941, 73.45526591, 71.12593064, 72.76626551, 70.89127233,\n",
              "       74.39206528, 72.51253713, 87.80497643, 81.78367239, 78.85586175,\n",
              "       69.59969049, 73.84793315, 73.34910425, 80.75529767, 69.11663667,\n",
              "       78.39648039, 74.91932487, 70.1419676 , 66.94839966, 75.45552135,\n",
              "       66.45029347, 75.17358413, 72.18178611, 70.74863205, 77.18329243,\n",
              "       73.5200953 , 74.91410974, 77.24058083, 75.83176443, 70.33169245,\n",
              "       80.69977647, 89.45451156, 62.22930423, 71.85238163, 76.8558489 ,\n",
              "       77.19843689, 75.31816747, 75.00060542, 74.39009419, 78.86095366,\n",
              "       66.52293716, 76.31099508, 69.94861357, 71.05041335, 74.09134805,\n",
              "       78.67518757, 67.86150157, 74.11604704, 73.59868788, 64.66823492,\n",
              "       72.640753  , 66.38143172, 79.46669723, 69.59934271, 83.379462  ,\n",
              "       78.7314105 , 78.05448689, 75.09004986, 61.90291468, 71.76297192,\n",
              "       63.89020524, 74.99835853, 78.0506775 , 77.47517202, 70.81129603,\n",
              "       74.81160947, 68.91898655, 78.7243908 , 80.94475871, 74.7641594 ,\n",
              "       64.02266731, 72.0286527 , 75.60213389, 75.09529457, 82.45629945,\n",
              "       81.50264203, 76.28946114, 75.63369644, 70.53934479, 77.96486382,\n",
              "       82.90054403, 82.00885783, 75.78007886, 74.15162501, 81.12226454,\n",
              "       72.63767383, 76.01825466, 73.77838551, 76.75254882, 79.77078254])"
            ]
          },
          "metadata": {},
          "execution_count": 3
        }
      ],
      "source": [
        "# Generate data random\n",
        "import numpy as np\n",
        "math_score = np.random.normal(75, 5, 200) #np.random.normal (mean,stdv,n_data)\n",
        "math_score"
      ]
    },
    {
      "cell_type": "code",
      "execution_count": 5,
      "id": "81648bad-acd5-4929-87ca-5e15ac133b0b",
      "metadata": {
        "id": "81648bad-acd5-4929-87ca-5e15ac133b0b",
        "colab": {
          "base_uri": "https://localhost:8080/"
        },
        "outputId": "bd8b1e72-07c3-4984-a9b0-705d2a23a8d0"
      },
      "outputs": [
        {
          "output_type": "stream",
          "name": "stdout",
          "text": [
            "74.26788129041134\n",
            "4.946426313044195\n",
            "-0.8628211602296655\n"
          ]
        }
      ],
      "source": [
        "## We want to calculate probability of having a score larger than 70 on math exam\n",
        "\n",
        "## First, calculate z-score of 70\n",
        "\n",
        "mean = np.mean(math_score)\n",
        "std = np.std(math_score)\n",
        "print(mean)\n",
        "print(std)\n",
        "x = 70 # x=70 karena cut off nya di angka 70 ke atas\n",
        "z_score = (x-mean)/std\n",
        "print(z_score)"
      ]
    },
    {
      "cell_type": "code",
      "execution_count": 7,
      "id": "088b5d6e-18be-4748-9a74-0f8a28e8d7f9",
      "metadata": {
        "id": "088b5d6e-18be-4748-9a74-0f8a28e8d7f9",
        "outputId": "7ad536fd-bf72-4f0a-ad3a-e6ad6a3dfd96",
        "colab": {
          "base_uri": "https://localhost:8080/"
        }
      },
      "outputs": [
        {
          "output_type": "stream",
          "name": "stdout",
          "text": [
            "0.1941179015426467\n",
            "0.8058820984573534\n"
          ]
        }
      ],
      "source": [
        "## Calculate area below Z-score\n",
        "from scipy.stats import norm\n",
        "below_zscore = norm.cdf(z_score) #Cumulative Disribution Function (CDF)\n",
        "print(below_zscore)\n",
        "\n",
        "## However, because we want to calculate the probability of having a score larger than 70, we need to calculate the area after the z_score\n",
        "\n",
        "prob = 1- below_zscore\n",
        "print(prob)\n",
        "\n",
        "# Peluang kita memperoleh nilai di atas 70 itu 80,5%"
      ]
    },
    {
      "cell_type": "code",
      "execution_count": null,
      "id": "a10dc275-dced-496f-9010-de5f3e2fc441",
      "metadata": {
        "id": "a10dc275-dced-496f-9010-de5f3e2fc441",
        "outputId": "4d80462c-a2f4-48a8-d40c-57be9ccc15d7",
        "colab": {
          "base_uri": "https://localhost:8080/"
        }
      },
      "outputs": [
        {
          "output_type": "stream",
          "name": "stdout",
          "text": [
            "-1.0231774231571236\n"
          ]
        }
      ],
      "source": [
        "## How about the probability of having a score below 60\n",
        "\n",
        "mean = np.mean(math_score)\n",
        "std = np.std(math_score)\n",
        "x = 60 # karena meu menghitung nilai di bawah 60\n",
        "z_score = (x-mean)/std\n",
        "print(z_score)"
      ]
    },
    {
      "cell_type": "code",
      "execution_count": 8,
      "id": "ceba8375-e50c-4e6e-8e0b-31832878791f",
      "metadata": {
        "id": "ceba8375-e50c-4e6e-8e0b-31832878791f",
        "outputId": "f728eafc-7601-4ff6-954a-34f75ffecfb0",
        "colab": {
          "base_uri": "https://localhost:8080/"
        }
      },
      "outputs": [
        {
          "output_type": "stream",
          "name": "stdout",
          "text": [
            "0.1941179015426467\n",
            "0.1941179015426467\n"
          ]
        }
      ],
      "source": [
        "## Calculate area below Z-score\n",
        "from scipy.stats import norm\n",
        "below_zscore = norm.cdf(z_score)\n",
        "print(below_zscore)\n",
        "\n",
        "prob = below_zscore\n",
        "print(prob)"
      ]
    },
    {
      "cell_type": "code",
      "source": [
        "# cara kita tau update package bagaimana?"
      ],
      "metadata": {
        "id": "M1lUYsHhadbv"
      },
      "id": "M1lUYsHhadbv",
      "execution_count": null,
      "outputs": []
    }
  ],
  "metadata": {
    "kernelspec": {
      "display_name": "Python 3",
      "language": "python",
      "name": "python3"
    },
    "language_info": {
      "codemirror_mode": {
        "name": "ipython",
        "version": 3
      },
      "file_extension": ".py",
      "mimetype": "text/x-python",
      "name": "python",
      "nbconvert_exporter": "python",
      "pygments_lexer": "ipython3",
      "version": "3.8.8"
    },
    "colab": {
      "provenance": []
    }
  },
  "nbformat": 4,
  "nbformat_minor": 5
}